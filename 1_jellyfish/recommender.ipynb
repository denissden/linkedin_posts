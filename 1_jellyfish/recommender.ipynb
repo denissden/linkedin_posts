{
 "cells": [
  {
   "cell_type": "code",
   "execution_count": 68,
   "id": "initial_id",
   "metadata": {
    "collapsed": true,
    "ExecuteTime": {
     "end_time": "2023-10-17T20:17:05.771983Z",
     "start_time": "2023-10-17T20:17:05.761797Z"
    }
   },
   "outputs": [],
   "source": [
    "import re\n",
    "import time\n",
    "\n",
    "from peewee import SqliteDatabase, Model, TextField\n",
    "\n",
    "\n",
    "db = SqliteDatabase('places.sqlite')\n",
    "        \n",
    "class Place(Model):\n",
    "    name_and_description = TextField()\n",
    "    tags = TextField(null=True)\n",
    "    \n",
    "    class Meta:\n",
    "        database = db\n",
    "\n",
    "db.create_tables([Place])"
   ]
  },
  {
   "cell_type": "code",
   "execution_count": 69,
   "outputs": [],
   "source": [
    "from pathlib import Path\n",
    "\n",
    "\n",
    "def places_from_txt_to_db(txt_filename):\n",
    "    # places are listed in the following format\n",
    "    # 1. **Café du Monde**\n",
    "    #    *Description:* Lorem ipsum.\n",
    "    # \n",
    "    # 2. **Central Park**\n",
    "    #    *Description:* Foobar baz.\n",
    "    #\n",
    "    # 3. **The Louvre Museum**\n",
    "    #    *Description:* Bla bal bla.\n",
    "\n",
    "    text = Path(txt_filename).read_text()\n",
    "    places_with_description = text.split(\"\\n\\n\")\n",
    "    for place in places_with_description:\n",
    "        # remove formatting (*) and digits\n",
    "        formatted_place = place.replace(\"*\", \"\")\n",
    "        formatted_place = re.sub(\"\\d+\\.\\s?\", \"\", formatted_place)\n",
    "        # save to db\n",
    "        Place.get_or_create(name_and_description=formatted_place)"
   ],
   "metadata": {
    "collapsed": false,
    "ExecuteTime": {
     "end_time": "2023-10-17T20:17:05.773564Z",
     "start_time": "2023-10-17T20:17:05.765897Z"
    }
   },
   "id": "6a637147aec60f46"
  },
  {
   "cell_type": "code",
   "execution_count": 70,
   "outputs": [],
   "source": [
    "places_from_txt_to_db(\"gpt_places.txt\")"
   ],
   "metadata": {
    "collapsed": false,
    "ExecuteTime": {
     "end_time": "2023-10-17T20:17:05.813993Z",
     "start_time": "2023-10-17T20:17:05.768422Z"
    }
   },
   "id": "8d53e345fab831cd"
  },
  {
   "cell_type": "code",
   "execution_count": 71,
   "outputs": [],
   "source": [
    "import os\n",
    "import openai\n",
    "from dotenv import load_dotenv\n",
    "\n",
    "load_dotenv()\n",
    "openai.api_key = os.environ.get(\"OPENAI_API_KEY\")\n",
    "\n",
    "def next_message(dialog):\n",
    "    response = openai.ChatCompletion.create(\n",
    "        model=\"gpt-3.5-turbo\",\n",
    "        messages=dialog\n",
    "    )\n",
    "\n",
    "    return response[\"choices\"][0][\"message\"]"
   ],
   "metadata": {
    "collapsed": false,
    "ExecuteTime": {
     "end_time": "2023-10-17T20:17:05.818467Z",
     "start_time": "2023-10-17T20:17:05.814615Z"
    }
   },
   "id": "ef2817aac8f1b3ca"
  },
  {
   "cell_type": "code",
   "execution_count": 81,
   "outputs": [],
   "source": [
    "def tag_batch(places):\n",
    "    \n",
    "    prompt = f\"\"\"You are an AI expert. Please analyze a list of {len(places)} locations below. Please create 20-30 tags for each location. Tags may include but not limited to location name, location city and country if specified, general information about location, emotions associated with location. You can also include activities and items related to the location.\n",
    "    \n",
    "     \n",
    "    For example, for a cafe in Paris the could be: cafe, paris, france, breakfast, dinner, lunch, fulfilled, cheerful, relax, food, table, chair, soup, coffee, wine, social, etc.\n",
    "     \n",
    "    The algorithm used to compare tags is levenshtein_distance. Please optimize tags for this task. Please split tags ONLY by commas. \n",
    "\n",
    "    Please respond in a following format:\n",
    "    \n",
    "    Place 0: tag1, tag2, tag3\n",
    "    Place 1: tag1, tag2, tag3\n",
    "    ...\n",
    "    \n",
    "    Below are the places with descriptions.\n",
    "    \n",
    "    {list(enumerate(map(lambda p: p.name_and_description, places)))}\"\"\"\n",
    "    \n",
    "    result = next_message([\n",
    "        {\"role\": \"system\", \"content\": \"You are an AI expert.\"},\n",
    "        {\"role\": \"user\", \"content\": prompt},\n",
    "    ])\n",
    "    \n",
    "    all_places_text = result[\"content\"]\n",
    "    probably_tag_lines = [i for i in all_places_text.split(\"\\n\") if i.strip()]\n",
    "    \n",
    "    for i, single_place_text in enumerate(probably_tag_lines):\n",
    "        tags = single_place_text.split(\":\", maxsplit=1)[-1].strip()\n",
    "        place = places[i]\n",
    "        place.tags = tags\n",
    "        place.save()\n",
    "\n",
    "\n",
    "def tag_untagged_places(batch_size=10):\n",
    "    untagged_places = list(Place.select().where((Place.tags == None) | (Place.tags == '')))\n",
    "    \n",
    "    for i in range(0, len(untagged_places), batch_size):\n",
    "        print(f\"Creating tags {i+1}-{i+batch_size} of {len(untagged_places)}...\", end=\" \")\n",
    "        places_to_tag = untagged_places[i:i+batch_size]\n",
    "        tag_batch(places_to_tag)\n",
    "        print(\"Done!\")\n",
    "        # if using a free key, this helps to getting rate limited\n",
    "        time.sleep(60)"
   ],
   "metadata": {
    "collapsed": false,
    "ExecuteTime": {
     "end_time": "2023-10-17T20:48:27.212929Z",
     "start_time": "2023-10-17T20:48:27.199952Z"
    }
   },
   "id": "bd53ac0cbfa4c420"
  },
  {
   "cell_type": "code",
   "execution_count": 84,
   "outputs": [
    {
     "name": "stdout",
     "output_type": "stream",
     "text": [
      "Creating tags 1-10 of 61... Done!\n",
      "Creating tags 11-20 of 61... Done!\n",
      "Creating tags 21-30 of 61... Done!\n",
      "Creating tags 31-40 of 61... Done!\n",
      "Creating tags 41-50 of 61... Done!\n",
      "Creating tags 51-60 of 61... Done!\n",
      "Creating tags 61-70 of 61... Done!\n"
     ]
    }
   ],
   "source": [
    "tag_untagged_places()"
   ],
   "metadata": {
    "collapsed": false,
    "ExecuteTime": {
     "end_time": "2023-10-17T21:08:01.490049Z",
     "start_time": "2023-10-17T20:56:22.024596Z"
    }
   },
   "id": "b06a2112724b7406"
  },
  {
   "cell_type": "code",
   "execution_count": 112,
   "outputs": [],
   "source": [
    "def get_question_tags(question):\n",
    "    \n",
    "    prompt = f\"\"\"You are an AI expert. Please analyze user's question below. Please create 5-7 tags. Tags may include but not limited to probable locations names, locations cities and countries if specified, general information about the question, emotions associated with the question. You can also include activities and items related to the question.\n",
    "    \n",
    "    For example, here are possible for a question \"I'd like to swim\": sea, pool, river, beach, activities, happy, sport, sand, water, swim, swimsuit, diving\n",
    "     \n",
    "    The algorithm used to compare tags is levenshtein_distance. Please optimize tags for this task. Please split tags ONLY by commas. \n",
    "\n",
    "    Please respond in a following format:\n",
    "    \n",
    "    tag1, tag2, tag3\n",
    "    \n",
    "    Below is the user's question.\n",
    "    \n",
    "    \"{question}\"\"\"\n",
    "    \n",
    "    result = next_message([\n",
    "        {\"role\": \"system\", \"content\": \"You are an AI expert.\"},\n",
    "        {\"role\": \"user\", \"content\": prompt},\n",
    "    ])\n",
    "    \n",
    "    content = result[\"content\"]\n",
    "    # remove first phrase like \"Here are the tags:\"\n",
    "    return content.lower().split(\":\", maxsplit=1)[-1]"
   ],
   "metadata": {
    "collapsed": false,
    "ExecuteTime": {
     "end_time": "2023-10-17T21:33:01.282908Z",
     "start_time": "2023-10-17T21:33:01.277191Z"
    }
   },
   "id": "6ba962d5d49e52d9"
  },
  {
   "cell_type": "code",
   "execution_count": 104,
   "outputs": [
    {
     "data": {
      "text/plain": "'coffee, beverage, drink, caffeine, morning, wake-up, hot, aroma, coffee shop, espresso, cappuccino'"
     },
     "execution_count": 104,
     "metadata": {},
     "output_type": "execute_result"
    }
   ],
   "source": [
    "get_question_tags(\"I want some coffee\")"
   ],
   "metadata": {
    "collapsed": false,
    "ExecuteTime": {
     "end_time": "2023-10-17T21:25:21.077884Z",
     "start_time": "2023-10-17T21:25:15.621033Z"
    }
   },
   "id": "8929a259c41146de"
  },
  {
   "cell_type": "code",
   "execution_count": 120,
   "outputs": [],
   "source": [
    "import jellyfish\n",
    "\n",
    "def sort_places_by_relevance(places, search_tags_text):\n",
    "    search_tags = [s.strip() for s in search_tags_text.split(\",\")]\n",
    "    \n",
    "    def score(place):\n",
    "        place_tags = [t.strip() for t in place.tags.lower().split(\",\")]\n",
    "        scores = []\n",
    "        for s in search_tags:\n",
    "            scores += [jellyfish.levenshtein_distance(s, t) for t in place_tags]\n",
    "        \n",
    "        # less distance = closer match\n",
    "        return sum(sorted(scores)[:len(search_tags)])\n",
    "    \n",
    "    return sorted(places, key=score)"
   ],
   "metadata": {
    "collapsed": false,
    "ExecuteTime": {
     "end_time": "2023-10-17T21:41:16.309227Z",
     "start_time": "2023-10-17T21:41:16.303855Z"
    }
   },
   "id": "e257be6c739e7e66"
  },
  {
   "cell_type": "markdown",
   "source": [
    "⬆️looks for closest matching tag and uses its score in sorting. \n",
    "\n",
    "For example, if the question has tags `exteme, sport` and only the best matching tag is used, both places `Dad's gym: sport, running, exercise` and `Everest: mountain everest, dangerous, extreme, sport` will have the save score even though Everest has two mathing tags"
   ],
   "metadata": {
    "collapsed": false
   },
   "id": "e97b886bd7fa6f7c"
  },
  {
   "cell_type": "code",
   "execution_count": 121,
   "outputs": [],
   "source": [
    "def answer_question(question):\n",
    "    question_tags = get_question_tags(question)\n",
    "    print(\"Question tags:\", question_tags)\n",
    "    \n",
    "    all_places = list(Place.select())\n",
    "    places_by_relevance = sort_places_by_relevance(all_places, question_tags)\n",
    "    top_10_places = places_by_relevance[:10]\n",
    "    \n",
    "    top_10_places_text = \"\\n=====\\n\".join(map(lambda p: p.name_and_description, top_10_places))\n",
    "    \n",
    "    prompt = f\"\"\"You are places to visit expert. Below is your database of places. Please carefully read the user's question and answer it. You can include any information regarding places described below in your answer. Please recommend to the user places relevant to the question.\n",
    "    \n",
    "    Below are the places with descriptions separated by \"=====\".\n",
    "    \n",
    "    {top_10_places_text}\"\"\"\n",
    "    \n",
    "    result = next_message([\n",
    "        {\"role\": \"system\", \"content\": prompt},\n",
    "        {\"role\": \"user\", \"content\": question},\n",
    "    ])\n",
    "    \n",
    "    return result[\"content\"]"
   ],
   "metadata": {
    "collapsed": false,
    "ExecuteTime": {
     "end_time": "2023-10-17T21:41:17.495055Z",
     "start_time": "2023-10-17T21:41:17.491657Z"
    }
   },
   "id": "9cbbcfc43de251d8"
  },
  {
   "cell_type": "code",
   "execution_count": 124,
   "outputs": [
    {
     "name": "stdout",
     "output_type": "stream",
     "text": [
      "Question tags: coffee, beverage, caffeine\n"
     ]
    },
    {
     "data": {
      "text/plain": "\"If you're looking for a coffee fix, I would recommend visiting Café du Monde in the French Quarter of New Orleans. This iconic coffee shop is famous for its beignets and chicory coffee. You can enjoy their delicious pastries while sipping on a cup of coffee and soaking in the open-air ambiance. Another option would be to visit Piazza San Marco in Venice, Italy. This beautiful square is renowned for its stunning architecture and is home to several local cafes where you can enjoy a cup of coffee while people-watching.\""
     },
     "execution_count": 124,
     "metadata": {},
     "output_type": "execute_result"
    }
   ],
   "source": [
    "answer_question(\"I want some coffee\")"
   ],
   "metadata": {
    "collapsed": false,
    "ExecuteTime": {
     "end_time": "2023-10-17T21:47:39.537405Z",
     "start_time": "2023-10-17T21:47:23.976139Z"
    }
   },
   "id": "a803c486d3832e95"
  },
  {
   "cell_type": "code",
   "execution_count": 125,
   "outputs": [
    {
     "name": "stdout",
     "output_type": "stream",
     "text": [
      "Question tags: meme places, locations, humorous, internet, popular\n"
     ]
    },
    {
     "data": {
      "text/plain": "\"1. The Sistine Chapel, Vatican City\\n   Description: Memes related to the Sistine Chapel often humorously speculate on the real backstory behind the creation of Michelangelo's famous paintings.\\n\\n2. Cocos Island, Costa Rica\\n   Description: The presence of sharks in Cocos Island has inspired memes that play on the idea of danger and thrill associated with diving in this popular destination.\\n\\n3. Mykonos, Greece\\n   Description: Mykonos is known for its vibrant nightlife, which has been the subject of humorous memes that capture the energetic party atmosphere of the island.\\n\\n4. Fiji\\n   Description: Fiji's picturesque blue lagoons and stunning natural beauty have been featured in various memes that highlight its status as a tranquil and idyllic tropical getaway.\\n\\n5. Bali, Indonesia\\n   Description: Bali's lush landscapes and unique cultural experiences have inspired memes that humorously depict the island as a paradise for surfers, yoga enthusiasts, and travelers seeking relaxation and spiritual enlightenment.\""
     },
     "execution_count": 125,
     "metadata": {},
     "output_type": "execute_result"
    }
   ],
   "source": [
    "answer_question(\"List 5 meme places\")"
   ],
   "metadata": {
    "collapsed": false,
    "ExecuteTime": {
     "end_time": "2023-10-17T21:49:47.118552Z",
     "start_time": "2023-10-17T21:49:22.699859Z"
    }
   },
   "id": "ffc768d429bd4f4d"
  },
  {
   "cell_type": "code",
   "execution_count": 126,
   "outputs": [
    {
     "name": "stdout",
     "output_type": "stream",
     "text": [
      "Question tags: travel, adventure, exploration, wanderlust, excitement\n"
     ]
    },
    {
     "data": {
      "text/plain": "'If you\\'re an extreme traveler seeking thrilling and adventurous experiences, here are a few recommendations:\\n\\n1. The Running of the Bulls, Pamplona, Spain: Join the adrenaline-pumping tradition of running with the bulls during the San Fermín festival. It\\'s a daring and unique experience that tests your courage and agility.\\n\\n2. The Great Blue Hole, Belize: Dive or snorkel in the Great Blue Hole, a massive underwater sinkhole known for its eerie, deep blue color. Explore its depths and witness the diverse marine life that calls this natural wonder home.\\n\\n3. The Door to Hell, Turkmenistan: Visit the Darvaza Gas Crater, also known as the \"Door to Hell.\" This burning natural gas pit in the Karakum Desert offers a surreal and mesmerizing sight, especially at night.\\n\\n4. Zion National Park, USA: If you love outdoor adventures, Zion National Park is a must-visit. This Utah treasure offers thrilling hiking trails, canyoneering opportunities, and breathtaking views of towering red rock formations.\\n\\nRemember to prioritize your safety and obtain the necessary permits and guidance when engaging in extreme activities. Happy traveling!'"
     },
     "execution_count": 126,
     "metadata": {},
     "output_type": "execute_result"
    }
   ],
   "source": [
    "answer_question(\"I'm a danger traveller\")"
   ],
   "metadata": {
    "collapsed": false,
    "ExecuteTime": {
     "end_time": "2023-10-17T21:51:24.988926Z",
     "start_time": "2023-10-17T21:50:57.620544Z"
    }
   },
   "id": "4d49a36d15366089"
  },
  {
   "cell_type": "code",
   "execution_count": null,
   "outputs": [],
   "source": [],
   "metadata": {
    "collapsed": false
   },
   "id": "dbb223fabd6d840f"
  }
 ],
 "metadata": {
  "kernelspec": {
   "display_name": "Python 3",
   "language": "python",
   "name": "python3"
  },
  "language_info": {
   "codemirror_mode": {
    "name": "ipython",
    "version": 2
   },
   "file_extension": ".py",
   "mimetype": "text/x-python",
   "name": "python",
   "nbconvert_exporter": "python",
   "pygments_lexer": "ipython2",
   "version": "2.7.6"
  }
 },
 "nbformat": 4,
 "nbformat_minor": 5
}
